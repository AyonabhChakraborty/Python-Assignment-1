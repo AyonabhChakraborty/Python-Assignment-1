{
 "cells": [
  {
   "cell_type": "markdown",
   "id": "72cfb520-3f61-4bf3-9d1d-6246d8fb1ecf",
   "metadata": {},
   "source": [
    "TOPIC: Python Basics Variable"
   ]
  },
  {
   "cell_type": "markdown",
   "id": "a41ec238-c1d6-4c10-a2c5-c13938c0c717",
   "metadata": {},
   "source": [
    "1. Declare two variables, x and y, and assign them integer values. Swap the values of these variables without using any temporary variable."
   ]
  },
  {
   "cell_type": "code",
   "execution_count": null,
   "id": "4a0968ff-347f-44e3-8ba2-2a0da3e794e1",
   "metadata": {},
   "outputs": [
    {
     "name": "stdin",
     "output_type": "stream",
     "text": [
      " 6\n",
      " 7\n"
     ]
    }
   ],
   "source": [
    "#Answer\n",
    "\n",
    "x = int(input())\n",
    "y = int(input())\n"
   ]
  },
  {
   "cell_type": "code",
   "execution_count": 2,
   "id": "d5d28c12-cfb9-4687-a16b-32bee01534bd",
   "metadata": {},
   "outputs": [
    {
     "name": "stdout",
     "output_type": "stream",
     "text": [
      "The value of x before swapping : 6\n",
      "The value of y before swapping : 7\n"
     ]
    }
   ],
   "source": [
    "print('The value of x before swapping :' ,x)\n",
    "print('The value of y before swapping :' ,y)"
   ]
  },
  {
   "cell_type": "code",
   "execution_count": 3,
   "id": "7bb6f20f-7ace-462d-8dae-98808594cfe2",
   "metadata": {},
   "outputs": [],
   "source": [
    "x = x + y\n",
    "y = x - y\n",
    "x = x - y"
   ]
  },
  {
   "cell_type": "code",
   "execution_count": 4,
   "id": "f95a545d-cc25-4e98-95a3-414e78b435d7",
   "metadata": {},
   "outputs": [
    {
     "name": "stdout",
     "output_type": "stream",
     "text": [
      "The value of x after swapping : 7\n",
      "The value of y after swapping : 6\n"
     ]
    }
   ],
   "source": [
    "print('The value of x after swapping :', x)\n",
    "print('The value of y after swapping :', y)"
   ]
  },
  {
   "cell_type": "code",
   "execution_count": null,
   "id": "0a371d6e-683a-4c60-a06b-14e3add1cc2d",
   "metadata": {},
   "outputs": [],
   "source": [
    "\n"
   ]
  },
  {
   "cell_type": "markdown",
   "id": "0f8812d2-6db8-4e8f-8615-df8a38ba9201",
   "metadata": {},
   "source": [
    "2. Create a program that calculates the area of a rectangle. Take the length and\n",
    "width as inputs from the user and store them in variables. Calculate and\n",
    "display the area."
   ]
  },
  {
   "cell_type": "code",
   "execution_count": 5,
   "id": "7708b5c6-b69a-4a27-9bdf-88c496322e1d",
   "metadata": {},
   "outputs": [
    {
     "name": "stdin",
     "output_type": "stream",
     "text": [
      " 34\n",
      " 56\n"
     ]
    }
   ],
   "source": [
    "length = float(input())\n",
    "breadth = float(input())"
   ]
  },
  {
   "cell_type": "code",
   "execution_count": 6,
   "id": "0cac94d0-beb3-4f3a-b306-7de2e40fa802",
   "metadata": {},
   "outputs": [
    {
     "name": "stdout",
     "output_type": "stream",
     "text": [
      "Length of the rectangle given by the user : 34.0\n",
      "Breadth of the rectangle given by the user : 56.0\n"
     ]
    }
   ],
   "source": [
    "print('Length of the rectangle given by the user :', length)\n",
    "print('Breadth of the rectangle given by the user :', breadth)"
   ]
  },
  {
   "cell_type": "code",
   "execution_count": 7,
   "id": "69bfb42c-6eb4-48bb-a69a-541b0b9879db",
   "metadata": {},
   "outputs": [
    {
     "name": "stdout",
     "output_type": "stream",
     "text": [
      "Area of the rectangle : 1904.0\n"
     ]
    }
   ],
   "source": [
    "area = length * breadth\n",
    "print('Area of the rectangle :',area)"
   ]
  },
  {
   "cell_type": "code",
   "execution_count": null,
   "id": "e0adef84-0ba4-4a64-9db2-055607a565d1",
   "metadata": {},
   "outputs": [],
   "source": [
    "\n"
   ]
  },
  {
   "cell_type": "markdown",
   "id": "d43a00ca-c9ed-4c84-baa7-f4c6de7b24f1",
   "metadata": {},
   "source": [
    "\n",
    "3. Write a Python program that converts temperatures from Celsius to\n",
    "Fahrenheit. Take the temperature in Celsius as input, store it in a variable,\n",
    "convert it to Fahrenheit, and display the result."
   ]
  },
  {
   "cell_type": "code",
   "execution_count": 11,
   "id": "c4815726-94cf-4b22-8203-a15e748a92bb",
   "metadata": {},
   "outputs": [
    {
     "name": "stdin",
     "output_type": "stream",
     "text": [
      "Enter the temperature in celsius :  34.56\n"
     ]
    }
   ],
   "source": [
    "celsius = float(input('Enter the temperature in celsius : '))"
   ]
  },
  {
   "cell_type": "code",
   "execution_count": 12,
   "id": "ab49a31f-8fa3-4675-b492-da7aed3c465d",
   "metadata": {},
   "outputs": [
    {
     "name": "stdout",
     "output_type": "stream",
     "text": [
      "Given temperature in celsius : 34.56\n"
     ]
    }
   ],
   "source": [
    "print('Given temperature in celsius :', celsius)"
   ]
  },
  {
   "cell_type": "code",
   "execution_count": 13,
   "id": "b0e8851b-2a84-4b1a-9e1f-554459f09969",
   "metadata": {},
   "outputs": [],
   "source": [
    "farhenheit = (celsius * 1.8) + 32"
   ]
  },
  {
   "cell_type": "code",
   "execution_count": 14,
   "id": "e25a14de-f57e-4b7b-b7d1-3fdce516f24d",
   "metadata": {},
   "outputs": [
    {
     "name": "stdout",
     "output_type": "stream",
     "text": [
      "Temperature in farhenheit : 94.208\n"
     ]
    }
   ],
   "source": [
    "print('Temperature in farhenheit :', farhenheit)"
   ]
  },
  {
   "cell_type": "code",
   "execution_count": null,
   "id": "3d7ae823-33d0-4c45-b942-51dca92e5635",
   "metadata": {},
   "outputs": [],
   "source": [
    "\n"
   ]
  },
  {
   "cell_type": "markdown",
   "id": "d7b94390-663f-4452-986b-69fd3508e253",
   "metadata": {},
   "source": [
    "TOPIC: String Based Questions"
   ]
  },
  {
   "cell_type": "markdown",
   "id": "9299bb7f-8deb-435a-9b29-f8004cacbd19",
   "metadata": {},
   "source": [
    "1. Write a Python program that takes a string as input and prints the length of\n",
    "the string."
   ]
  },
  {
   "cell_type": "code",
   "execution_count": 17,
   "id": "d66f6647-2806-4c22-9988-7b75ae8f14c4",
   "metadata": {},
   "outputs": [
    {
     "name": "stdin",
     "output_type": "stream",
     "text": [
      "Enter your desired string :  Get like me 24/7\n"
     ]
    }
   ],
   "source": [
    "string = input('Enter your desired string : ')"
   ]
  },
  {
   "cell_type": "code",
   "execution_count": 18,
   "id": "d4d86ef2-89b6-492f-8df4-dc5b2e2e13bf",
   "metadata": {},
   "outputs": [
    {
     "name": "stdout",
     "output_type": "stream",
     "text": [
      "Display the string input :  Get like me 24/7\n"
     ]
    }
   ],
   "source": [
    "print('Display the string input : ', string)"
   ]
  },
  {
   "cell_type": "code",
   "execution_count": 19,
   "id": "f3edc6de-5585-468e-a2f2-bbc08630f37c",
   "metadata": {},
   "outputs": [],
   "source": [
    "str = len(string)"
   ]
  },
  {
   "cell_type": "code",
   "execution_count": 20,
   "id": "b1048126-07e8-49d3-b62e-16fd6ad96ef7",
   "metadata": {},
   "outputs": [
    {
     "name": "stdout",
     "output_type": "stream",
     "text": [
      "Display the length of the string :  16\n"
     ]
    }
   ],
   "source": [
    "print('Display the length of the string : ', str)"
   ]
  },
  {
   "cell_type": "code",
   "execution_count": null,
   "id": "91b74f5b-c4d1-47a6-b0c4-f9df21c62cb7",
   "metadata": {},
   "outputs": [],
   "source": [
    "\n"
   ]
  },
  {
   "cell_type": "markdown",
   "id": "3328e705-337a-437c-8836-125153171734",
   "metadata": {},
   "source": [
    "2. Create a program that takes a sentence from the user and counts the number\n",
    "of vowels (a, e, i, o, u) in the string."
   ]
  },
  {
   "cell_type": "code",
   "execution_count": 21,
   "id": "4b640c53-5ddb-4565-8863-5e1c8ccabac3",
   "metadata": {},
   "outputs": [
    {
     "name": "stdin",
     "output_type": "stream",
     "text": [
      "Enter your desired string :  I'm friends with demons and angels in my head\n"
     ]
    }
   ],
   "source": [
    "s = input('Enter your desired string : ')"
   ]
  },
  {
   "cell_type": "code",
   "execution_count": 38,
   "id": "f2eba55b-f3e7-49d2-b510-57e05e251e37",
   "metadata": {},
   "outputs": [],
   "source": [
    "vowels = ['a','e','i','o','u']\n",
    "\n",
    "count = 0\n",
    "\n",
    "for char in s:\n",
    "    if char in vowels :\n",
    "        count = count + 1"
   ]
  },
  {
   "cell_type": "code",
   "execution_count": 39,
   "id": "18a9b70f-96e2-471c-9b71-7be8fad0efa5",
   "metadata": {},
   "outputs": [
    {
     "name": "stdout",
     "output_type": "stream",
     "text": [
      "The total occurence of the vowels in the given sentence are :  11\n"
     ]
    }
   ],
   "source": [
    "print('The total occurence of the vowels in the given sentence are : ', count)"
   ]
  },
  {
   "cell_type": "code",
   "execution_count": null,
   "id": "7888d046-f7b3-4f69-943d-76ffc1e0858c",
   "metadata": {},
   "outputs": [],
   "source": [
    "\n"
   ]
  },
  {
   "cell_type": "markdown",
   "id": "12cd1f6e-5a96-44c8-a1f0-4146678dc6f4",
   "metadata": {},
   "source": [
    "3. Given a string, reverse the order of characters using string slicing and print\n",
    "the reversed string."
   ]
  },
  {
   "cell_type": "code",
   "execution_count": 40,
   "id": "e7beb232-8428-4edb-90e0-b97aec12a642",
   "metadata": {},
   "outputs": [
    {
     "name": "stdin",
     "output_type": "stream",
     "text": [
      "Enter your desired string :  Hey I'm Miyagi I turn chicken into Balenciagi\n"
     ]
    }
   ],
   "source": [
    "s = input('Enter your desired string : ')"
   ]
  },
  {
   "cell_type": "code",
   "execution_count": 41,
   "id": "e0f6db97-4877-4726-b035-e813cc8e7ccd",
   "metadata": {},
   "outputs": [],
   "source": [
    "s1 = s[::-1]"
   ]
  },
  {
   "cell_type": "code",
   "execution_count": 42,
   "id": "6eebd987-8699-4c31-880e-79a69cbd2aa5",
   "metadata": {},
   "outputs": [
    {
     "name": "stdout",
     "output_type": "stream",
     "text": [
      "The reversed string is :  igaicnelaB otni nekcihc nrut I igayiM m'I yeH\n"
     ]
    }
   ],
   "source": [
    "print('The reversed string is : ', s1)"
   ]
  },
  {
   "cell_type": "code",
   "execution_count": null,
   "id": "37f2c952-c17a-4e19-bdc9-5a59cf0b1854",
   "metadata": {},
   "outputs": [],
   "source": [
    "\n"
   ]
  },
  {
   "cell_type": "markdown",
   "id": "c0b05715-0580-4e7c-8585-c45584daccd3",
   "metadata": {},
   "source": [
    "4. Write a program that takes a string as input and checks if it is a palindrome\n",
    "(reads the same forwards and backwards)."
   ]
  },
  {
   "cell_type": "code",
   "execution_count": 43,
   "id": "6e14a653-f62e-446a-bd4a-8a57ba9e6fc4",
   "metadata": {},
   "outputs": [
    {
     "name": "stdin",
     "output_type": "stream",
     "text": [
      "Enter your desired string :  Hey I'm from the future\n"
     ]
    }
   ],
   "source": [
    "a = input('Enter your desired string : ')"
   ]
  },
  {
   "cell_type": "code",
   "execution_count": 44,
   "id": "7cbd3b18-f6bd-4149-8f67-3521076f7b4e",
   "metadata": {},
   "outputs": [],
   "source": [
    "b = a[::-1]"
   ]
  },
  {
   "cell_type": "code",
   "execution_count": 50,
   "id": "68ef05fe-5be1-41db-980a-c792d4e2d9c3",
   "metadata": {},
   "outputs": [
    {
     "name": "stdout",
     "output_type": "stream",
     "text": [
      "Not Palindrome\n"
     ]
    }
   ],
   "source": [
    "if a == b:\n",
    "    print('String is Palindrome')\n",
    "else:\n",
    "    print('Not Palindrome')"
   ]
  },
  {
   "cell_type": "code",
   "execution_count": null,
   "id": "690769d4-abb2-4a89-ab70-4ee0ff793666",
   "metadata": {},
   "outputs": [],
   "source": [
    "\n"
   ]
  },
  {
   "cell_type": "markdown",
   "id": "f7ebe885-ffa7-4a5b-bb87-46527c5aed12",
   "metadata": {},
   "source": [
    "5. Create a program that takes a string as input and removes all the spaces from\n",
    "it. Print the modified string without spaces."
   ]
  },
  {
   "cell_type": "code",
   "execution_count": 51,
   "id": "9b316344-9c29-4182-b506-a3477807bb95",
   "metadata": {},
   "outputs": [
    {
     "name": "stdin",
     "output_type": "stream",
     "text": [
      "Enter the string input :  Order up a sofa\n"
     ]
    }
   ],
   "source": [
    "x1 = input('Enter the string input : ')"
   ]
  },
  {
   "cell_type": "code",
   "execution_count": null,
   "id": "c8e0694b-f107-43ad-8b13-4d7d2e2b8395",
   "metadata": {},
   "outputs": [],
   "source": [
    "x2 = x1."
   ]
  }
 ],
 "metadata": {
  "kernelspec": {
   "display_name": "Python 3 (ipykernel)",
   "language": "python",
   "name": "python3"
  },
  "language_info": {
   "codemirror_mode": {
    "name": "ipython",
    "version": 3
   },
   "file_extension": ".py",
   "mimetype": "text/x-python",
   "name": "python",
   "nbconvert_exporter": "python",
   "pygments_lexer": "ipython3",
   "version": "3.10.8"
  }
 },
 "nbformat": 4,
 "nbformat_minor": 5
}
